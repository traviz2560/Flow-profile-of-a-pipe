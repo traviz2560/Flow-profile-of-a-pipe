{
  "cells": [
    {
      "cell_type": "markdown",
      "metadata": {
        "id": "oPxUl9B_6iTL"
      },
      "source": [
        "#PERFIL DE FLUJO"
      ]
    },
    {
      "cell_type": "markdown",
      "metadata": {
        "id": "7laPIgh9kEmd"
      },
      "source": [
        "El perfil de flujo es un concepto de la mecánica de fluidos, en particular de la técnica de medición de flujo. Se refiere a la distribución de la velocidad dependiente de la ubicación en una sección transversal de un flujo. Si un fluido circula a través de una tubería (o canal de riego o un canal), la distribución de la velocidad en la sección transversal no es constante, generalmente es cero en la pared de la tubería y de velocidad máxima en la mitad de la tubería.\n",
        "\n",
        "Define una diferencia entre perfiles permanentes y no permanentes (o completamente estacionarios). Un perfil de flujo permanente está presente si ya no cambia en la dirección del flujo. La distribución de la velocidad es simétrica a la tubería o al eje del canal. Un perfil no permanente se encuentra en la entrada, la salida, detrás de las curvas,​ reducciones, expansiones y elementos sobresalientes de un flujo. El perfil de flujo puede entonces ser asimétrico al eje de la tubería o canal y a los cambios en la dirección del flujo. Después de una longitud que depende de la perturbación (para tuberías de aproximadamente 10 a 60 diámetros)​ el perfil de flujo perturbado pasa a ser estacionario.\n",
        "\n",
        "En los flujos de tuberías, la forma de un perfil aerodinámico estacionario depende del número de Reynolds (es decir, la velocidad media del flujo, la viscosidad del fluido y el diámetro de la tubería), así como la rugosidad de la pared de la tubería."
      ]
    },
    {
      "cell_type": "code",
      "execution_count": null,
      "metadata": {
        "cellView": "form",
        "colab": {
          "base_uri": "https://localhost:8080/",
          "height": 187
        },
        "id": "9UTbA61Y30Wj",
        "outputId": "bd20c9c2-ad19-4cbb-c6ee-8680d929bde8"
      },
      "outputs": [
        {
          "data": {
            "text/html": [
              "<style>\n",
              "  img {\n",
              "    display: block;\n",
              "    margin-left: auto;\n",
              "    margin-right: auto;\n",
              "    border: 10px solid #ddd;\n",
              "    border-radius: 5px;\n",
              "    filter: saturate(2);\n",
              "  } \n",
              "</style>\n",
              "<img src=\"https://encrypted-tbn0.gstatic.com/images?q=tbn:ANd9GcTsA8QIbIWi2bHf2L44uIgJUTPkjhSOrP2D2KWyxJi4mQhjTjJuaZrGDNfsDyvEtKUGkAM&usqp=CAU\">"
            ],
            "text/plain": [
              "<IPython.core.display.HTML object>"
            ]
          },
          "metadata": {},
          "output_type": "display_data"
        }
      ],
      "source": [
        "#@title \n",
        "%%html\n",
        "<style>\n",
        "  img {\n",
        "    display: block;\n",
        "    margin-left: auto;\n",
        "    margin-right: auto;\n",
        "    border: 10px solid #ddd;\n",
        "    border-radius: 5px;\n",
        "    filter: saturate(2);\n",
        "  } \n",
        "</style>\n",
        "<img src=\"https://encrypted-tbn0.gstatic.com/images?q=tbn:ANd9GcTsA8QIbIWi2bHf2L44uIgJUTPkjhSOrP2D2KWyxJi4mQhjTjJuaZrGDNfsDyvEtKUGkAM&usqp=CAU\">"
      ]
    },
    {
      "cell_type": "markdown",
      "metadata": {
        "id": "iwhAE6jVC-gF"
      },
      "source": [
        "#Ecuación del flujo desarrollado"
      ]
    },
    {
      "cell_type": "markdown",
      "metadata": {
        "id": "a3mZiAKlDCjk"
      },
      "source": [
        "El flujo anular completamente desarrollado entre dos tuberias concentricas con $μ_{z}$ su velocidad axial, $\\frac{dp}{dz}$ como gradiente de presion constante, cuya relacion de radios se le ha denominado $k$, pero para el caso de estudio es 2, ademas de $μ$ viscosidad constante, tiene como ecuacion:\n",
        "\n",
        "<center>$\\displaystyle \\frac{1}{r}\\ \\frac{d}{dr}\\left(rμ\\ \\frac{dμ_{z}}{dr}\\right)-\\frac{dp}{dz}=0  \\hspace{1cm} (1)$</center>\n",
        "\n",
        "Considerando las siguientes variables adimensioanles:\n",
        "\n",
        "<center>$\\displaystyle η=\\frac{r}{r_{i}} \\hspace{2cm} U=\\frac{μ\\ μ_{z}}{r_{i}^{2}\\left(-\\frac{dp}{dz}\\right)}$</center>\n",
        "\n",
        "Adimensionalizando:\n",
        "\n",
        "<center>$\\displaystyle r_{i}η=r \\hspace{1cm} \\rightarrow \\hspace{1cm} r_{i}dη=dr$</center>\n",
        "<center>$ $</center>\n",
        "<center>$\\displaystyle μ_{z}=-\\frac{U\\ r_{i}^{2}\\left(\\frac{dp}{dz}\\right)}{μ} \\hspace{1cm} \\rightarrow \\hspace{1cm} dμ_{z}=-\\frac{r_{i}^{2}\\left(\\frac{dp}{dz}\\right)}{μ} dU$</center>\n",
        "<center>$ $</center>\n",
        "\n",
        "Obtenemos la siguiente ecuacion:\n",
        "\n",
        "<center>$ $</center>\n",
        "<center>$\\displaystyle \\frac{d}{dη}\\left(η\\frac{dU}{dη}\\right)+η=0 \\hspace{1cm} (2)$</center>\n",
        "\n",
        "Con condiciones de frontera:\n",
        "<center>$\\displaystyle η = 1 \\hspace{1cm} \\rightarrow \\hspace{1cm} U=0$</center>\n",
        "<center>$\\displaystyle$</center>\n",
        "<center>$\\displaystyle η = k \\hspace{1cm} \\rightarrow \\hspace{1cm} U=0$</center>"
      ]
    },
    {
      "cell_type": "code",
      "execution_count": null,
      "metadata": {
        "cellView": "form",
        "colab": {
          "base_uri": "https://localhost:8080/",
          "height": 193
        },
        "id": "oVbQocl_HZ8G",
        "outputId": "b052650c-6cf4-4339-c852-248194034c90"
      },
      "outputs": [
        {
          "data": {
            "text/html": [
              "<style>\n",
              "  img {\n",
              "    display: block;\n",
              "    margin-left: auto;\n",
              "    margin-right: auto;\n",
              "    border: 10px solid #ddd;\n",
              "    border-radius: 5px;\n",
              "    filter: saturate(4);\n",
              "  } \n",
              "</style>\n",
              "<img src=\"https://ars.els-cdn.com/content/image/3-s2.0-B9780123851246000058-f05-01-9780123851246.jpg\">"
            ],
            "text/plain": [
              "<IPython.core.display.HTML object>"
            ]
          },
          "metadata": {},
          "output_type": "display_data"
        }
      ],
      "source": [
        "#@title \n",
        "%%html\n",
        "<style>\n",
        "  img {\n",
        "    display: block;\n",
        "    margin-left: auto;\n",
        "    margin-right: auto;\n",
        "    border: 10px solid #ddd;\n",
        "    border-radius: 5px;\n",
        "    filter: saturate(4);\n",
        "  } \n",
        "</style>\n",
        "<img src=\"https://ars.els-cdn.com/content/image/3-s2.0-B9780123851246000058-f05-01-9780123851246.jpg\">"
      ]
    },
    {
      "cell_type": "markdown",
      "metadata": {
        "id": "08mVPdGtJ5il"
      },
      "source": [
        "#Desarrollo"
      ]
    },
    {
      "cell_type": "markdown",
      "metadata": {
        "id": "sI73BqrxKBUl"
      },
      "source": [
        "##Solucion Analitica:"
      ]
    },
    {
      "cell_type": "markdown",
      "metadata": {
        "id": "SV7T8eq0NdW1"
      },
      "source": [
        "Resolviendo la ecuacion $(2)$ para las condiciones de frontera dadas, obtenemos la siguiente solucion:\n",
        "\n",
        "<center>$\\displaystyle U\\left(η\\right)=\\frac{1-η^{2}}{4}+\\frac{\\ln\\left(η\\right)}{\\ln\\left(k\\right)}\\left(\\frac{k^{2}-1}{4}\\right) \\hspace{1cm} (3)$</center>\n",
        "\n",
        "donde $\\hspace{0.3cm} k>1 \\ ,\\ 1\\leη\\le k$.\n"
      ]
    },
    {
      "cell_type": "markdown",
      "metadata": {
        "id": "RoEaPxYAKEmM"
      },
      "source": [
        "##Solucion numerica:"
      ]
    },
    {
      "cell_type": "markdown",
      "metadata": {
        "id": "QY_yZGcBdGzQ"
      },
      "source": [
        "###Método de volumenes finitos"
      ]
    },
    {
      "cell_type": "markdown",
      "metadata": {
        "id": "V4oBfv8SuDj_"
      },
      "source": [
        "El metodo de los volumenes de control finitos permite discretizar y resolver numericamente ecuaciones diferenciales. Es un metodo alternativo a los de diferencias finitas y elementos finitos.\n",
        "Consideremos una malla de discretizacion del espacio fluido. En torno a cada punto de esta malla se construye un volumen de control que no se traslapa con los de los puntos vecinos. De esta forma el volumen total de fluido resulta ser igual a la suma de los volumenes de control considerados. La ecuacion diferencial a resolver se integra sobre cada volumen de control, lo cual entrega como resultado una version discretizada de dicha ecuacion. Para realizar la integracion se\n",
        "requiere especificar perfiles de variacion de la variable dependiente entre los puntos de la malla, de modo de poder evaluar las integrales resultantes. La principal propiedad del sistema de ecuaciones\n",
        "discretizadas resultante, es que la solucion obtenida satisface en forma exacta las ecuaciones de conservacion consideradas, independientemente del tamaño de la malla. "
      ]
    },
    {
      "cell_type": "code",
      "execution_count": null,
      "metadata": {
        "cellView": "form",
        "colab": {
          "base_uri": "https://localhost:8080/",
          "height": 180
        },
        "id": "L30v_8wkuGaf",
        "outputId": "b02934ed-e947-4566-f08a-80f793d67384"
      },
      "outputs": [
        {
          "data": {
            "text/html": [
              "<style>\n",
              "  img {\n",
              "    display: block;\n",
              "    margin-left: auto;\n",
              "    margin-right: auto;\n",
              "    border: 10px solid #ddd;\n",
              "    border-radius: 5px;\n",
              "    filter: saturate(4);\n",
              "  } \n",
              "</style>\n",
              "<img src=\"data:image/png;base64,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\">"
            ],
            "text/plain": [
              "<IPython.core.display.HTML object>"
            ]
          },
          "metadata": {},
          "output_type": "display_data"
        }
      ],
      "source": [
        "#@title \n",
        "%%html\n",
        "<style>\n",
        "  img {\n",
        "    display: block;\n",
        "    margin-left: auto;\n",
        "    margin-right: auto;\n",
        "    border: 10px solid #ddd;\n",
        "    border-radius: 5px;\n",
        "    filter: saturate(4);\n",
        "  } \n",
        "</style>\n",
        "<img src=\"data:image/png;base64,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\">"
      ]
    },
    {
      "cell_type": "markdown",
      "metadata": {
        "id": "7eCINvfKrnMJ"
      },
      "source": [
        "En el caso de la ecuacion (2), a travez del metodo de volumenes finitos integramos:\n",
        "\n",
        "<center>$\\displaystyle \\int_{w}^{e}\\frac{d}{dη}\\left(η\\frac{dU}{dη}\\right)dη+\\int_{w}^{e}ηdη=0$</center>\n",
        "\n",
        "<center>$\\displaystyle $</center>\n",
        "\n",
        "<center>$\\displaystyle \\rightarrow \\left(η\\frac{dU}{dη}\\right)_{e}-\\left(η\\frac{dU}{dη}\\right)_{w}+\\frac{η_{e}^{2}}{2}-\\frac{η_{w}^{2}}{2}=0$</center>\n",
        "\n",
        "<center>$\\displaystyle $</center>\n",
        "\n",
        "<center>$\\displaystyle \\rightarrow \\frac{η_{e}(U_{E}-U_{P})}{δη_{e}}-\\frac{η_w(U_{P}-U_{W})}{δη_{w}}+\\frac{\\left(η_{e}+η_{w}\\right)}{2}Δη_{P}=0$</center>\n",
        "\n",
        "Agrupando términos se tiene:\n",
        "\n",
        "<center>$\\displaystyle $</center>\n",
        "\n",
        "<center>$\\displaystyle U_{W}\\left(\\frac{η_{w}}{δη_{w}}\\right)+U_{E}\\left(\\frac{η_{e}}{δη_{e}}\\right)+\\frac{\\left(η_{e}+η_{w}\\right)}{2}Δη_{P}=U_{P}\\left(\\frac{η_{e}}{δη_{e}}+\\frac{η_{w}}{δη_{w}}\\right) \\hspace{1cm} (6)$</center>\n",
        "\n",
        "<center>$\\displaystyle $</center>\n"
      ]
    },
    {
      "cell_type": "markdown",
      "metadata": {
        "id": "duDCbdYP6HdI"
      },
      "source": [
        "###Algoritmo para matrices tridiagonales (TDMA)"
      ]
    },
    {
      "cell_type": "markdown",
      "metadata": {
        "id": "UxqAO0b26QH5"
      },
      "source": [
        "El algoritmo para matrices tridiagonales o algoritmo de Thomas es un algoritmo del álgebra lineal numérica para resolver matrices tridiagonales de forma eficiente. Una matriz tridiagonal se corresponde a un sistema de ecuaciones de la forma: $a_i x_{i-1}+b_i x_i + c_i x_{i+1}=d_i$ , donde $a_1 = 0$ y $c_n=0$, lo que se puede representar matricialmente como:"
      ]
    },
    {
      "cell_type": "code",
      "execution_count": null,
      "metadata": {
        "cellView": "form",
        "colab": {
          "base_uri": "https://localhost:8080/",
          "height": 184
        },
        "id": "lV3FZFHf6yvP",
        "outputId": "86115ca0-8158-4d59-c20a-6f95ff333dff"
      },
      "outputs": [
        {
          "data": {
            "text/html": [
              "<style>\n",
              "  img {\n",
              "    display: block;\n",
              "    margin-left: auto;\n",
              "    margin-right: auto;\n",
              "    border: 10px solid #ddd;\n",
              "    border-radius: 5px;\n",
              "    filter: saturate(4);\n",
              "  } \n",
              "</style>\n",
              "<img src=\"data:image/png;base64,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\">"
            ],
            "text/plain": [
              "<IPython.core.display.HTML object>"
            ]
          },
          "metadata": {},
          "output_type": "display_data"
        }
      ],
      "source": [
        "#@title \n",
        "%%html\n",
        "<style>\n",
        "  img {\n",
        "    display: block;\n",
        "    margin-left: auto;\n",
        "    margin-right: auto;\n",
        "    border: 10px solid #ddd;\n",
        "    border-radius: 5px;\n",
        "    filter: saturate(4);\n",
        "  } \n",
        "</style>\n",
        "<img src=\"data:image/png;base64,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\">"
      ]
    },
    {
      "cell_type": "markdown",
      "metadata": {
        "id": "mtKPmAP86FzY"
      },
      "source": [
        "Reformulamos y generalizamos para aplicar el algoritmo TDMA\n",
        "\n",
        "<center>$\\displaystyle a_{i}U_{i-1}+b_{i}U_{i}+c_{i}U_{i+1}=d_{i}$</center>\n",
        "\n",
        "Donde:\n",
        "\n",
        "<center>$\\displaystyle a_{i}=\\frac{η_{w}}{δη_{w}}\\ \\ \\ b_{i}=-\\left(\\frac{η_{e}}{δη_{e}}+\\frac{η_{w}}{δη_{w}}\\right)\\ \\ c_{i}=\\frac{η_{e}}{δη_{e}}\\ \\ d_{i}=-\\frac{\\left(η_{e}+η_{w}\\right)}{2}Δη_{P}$</center>\n",
        "\n",
        "<center>$\\displaystyle $</center>\n",
        "\n",
        "<center>$\\displaystyle \\rightarrow a_{i}=\\frac{fη_{i-1}}{δη_{i-1}}\\ \\ \\ b_{i}=-\\left(\\frac{fη_{i-1}}{δη_{i-1}}+\\frac{fη_{i}}{δη_{i}}\\right)\\ \\ c_{i}=\\frac{fη_{i}}{δη_{i}}\\ \\ d_{i}=-\\frac{\\left(fη_{i}+fη_{i-1}\\right)}{2}Δη_{i}$</center>\n",
        "\n",
        "Para $i=1=n$:\n",
        "\n",
        "<center>$\\displaystyle a_{1}U_{0}+b_{1}U_{1}+c_{1}U_{2}=d_{1}\\ \\ \\ ,\\ \\ \\ U_{1} = 0$</center>\n",
        "\n",
        "<center>$\\displaystyle $</center>\n",
        "\n",
        "<center>$\\displaystyle \\rightarrow a_{1}=0\\ \\ ,\\ \\ b_{1}=1\\ \\ ,\\ \\ c_{1}=0\\ \\ ,\\ \\ d_{1}=0$</center>\n",
        "\n",
        "<center>$\\displaystyle $</center>\n",
        "\n",
        "<center>$\\displaystyle a_{n}U_{n-1}+b_{n}U_{n}+c_{n}U_{n+1}=d_{n}\\ \\ \\ ,\\ \\ \\ U_{n} = 0$</center>\n",
        "\n",
        "<center>$\\displaystyle $</center>\n",
        "\n",
        "<center>$\\displaystyle \\rightarrow a_{n}=0\\ \\ ,\\ \\ b_{n}=1\\ \\ ,\\ \\ c_{n}=0\\ \\ ,\\ \\ d_{n}=0$</center>\n"
      ]
    },
    {
      "cell_type": "markdown",
      "metadata": {
        "id": "jRlu82sO1yEa"
      },
      "source": [
        "###Extrapolación de Richardson"
      ]
    },
    {
      "cell_type": "markdown",
      "metadata": {
        "id": "fqVyjl9W11xp"
      },
      "source": [
        "El método de extrapolación de Richardson, desarrollado por Lewis Fry Richardson (1881-1953), permite construir a partir de una secuencia convergente otra secuencia más rápidamente convergente. Esta técnica se usa frecuentemente para mejorar los resultados de métodos numéricos a partir de una estimación previa, de igual forma mejora la precisión en el cálculo numérico de la derivada de una función, partiendo de la base de la serie de Taylor. Este proceso es especialmente utilizado para definir un método de integración: el método de Romberg.\n",
        "Aunque el metodo aplicado se usa para la integración de Romberg, puede aplicarse perfectamente a este caso de estudio. Este método dos estimaciones de una integral (o en este caso dos estimaciones de la temperatura) para calcular una tercera más exacta\n",
        "La estimación y el error correspondiente a la regla del trapecio de aplicación múltiple se representa de manera general como:\n",
        "\n",
        "<center>$\\displaystyle I=I(h)+E(h)$</center>\n",
        "\n",
        "donde $I$ = el valor exacto de la integral, $I(h)$ = la aproximación obtenida de una aplicación con n segmentos de la regla del trapecio, con un tamaño de paso $h = (b – a)/n$, y $E(h)$ = el error de truncamiento. Si hacemos, por separado, dos estimaciones usando tamaños de paso $h_1$ y $h_2$ y tenemos valores exactos del error,\n",
        "\n",
        "<center>$\\displaystyle I(h_1)+E(h_1) = I(h_2)+E(h_2)$</center>\n",
        "\n",
        "se puede determinar la razon entre los errores, que será\n",
        "\n",
        "<center>$\\displaystyle \\frac {E(h_1)}{E(h_2)} \\cong \\frac {h_1^2}{h_2^2}$</center>\n",
        "\n",
        "De esta realcion se puede determinar una mejor estimacion de la integral:\n",
        "\n",
        "<center>$\\displaystyle I \\cong I(h_2)+\\frac {1}{(h_1/h_2)^2-1}[I(h_2)-I(h_1)]$</center>\n",
        "\n",
        "Se puede demostrar (Ralston y Rabinowitz, 1978) que el error de esta estimación es $O(h^4)$. Así, hemos combinado dos estimaciones con la regla del trapecio de $O(h^2)$ para obtener una nueva estimación de $O(h^4)$. En el caso especial donde el intervalo es dividido a la mitad $(h2 = h1/2)$, esta ecuación se convierte en:\n",
        "\n",
        "<center>$\\displaystyle I \\cong \\frac {4I(h_2)-I(h_1)}{3}$</center>\n",
        "\n",
        "Se puede generar otra estimación $O(h^4)$ usando $(h2 = h1/2)$ y $(h3 = h1/4)$ y de esta y la anterior estimacion generar un valor aún mejor con $O(h^6)$ mediante la siguiente ecuación:\n",
        "\n",
        "<center>$\\displaystyle I \\cong \\frac {16I_m-I_l}{15}$</center>\n",
        "\n",
        "Estas formulaciones se expresan en una forma general muy adecuada para la implementación en computadora:\n",
        "\n",
        "<center>$\\displaystyle I_{j,k} \\cong \\frac {4^{k-1}I_{j+1,k-1}-I_{j,k-1}}{4^{k-1}-1}$</center>"
      ]
    },
    {
      "cell_type": "markdown",
      "metadata": {
        "id": "pk9A5vKC1FnS"
      },
      "source": [
        "##Implementación"
      ]
    },
    {
      "cell_type": "markdown",
      "metadata": {
        "id": "E5NgrzRHGT8B"
      },
      "source": [
        "Instrucciones:\n",
        "* Modifique los parametros de la siguiente celda.\n",
        "* Ejecute todas las celdas siguientes."
      ]
    },
    {
      "cell_type": "code",
      "execution_count": null,
      "metadata": {
        "cellView": "form",
        "id": "nfGx7zep1LdQ"
      },
      "outputs": [],
      "source": [
        "#@title Datos del modelo\n",
        "#Datos\n",
        "k = 2 #@param {type:\"slider\", min:1.01, max:10, step:0.01}\n",
        "n =  20 #@param {type:\"integer\"}\n",
        "alpha = 1 #@param {type:\"slider\", min:0.1, max:10, step:0.1}\n",
        "n = n-1"
      ]
    },
    {
      "cell_type": "markdown",
      "metadata": {
        "id": "sWY8N-euZqIE"
      },
      "source": [
        "Donde \n",
        "* k: relacion entre $r_f$ y $r_i$\n",
        "* n: numero de volumenes para el modelo\n",
        "* $\\alpha$: distribucion de puntos para el modelo"
      ]
    },
    {
      "cell_type": "code",
      "execution_count": null,
      "metadata": {
        "cellView": "form",
        "colab": {
          "base_uri": "https://localhost:8080/"
        },
        "id": "z49oQGjR4QfS",
        "outputId": "2baab6a6-b8a8-48e9-def7-b365154fbe23"
      },
      "outputs": [
        {
          "name": "stdout",
          "output_type": "stream",
          "text": [
            "La velocidad maxima en el fluido es: 0.1266\n"
          ]
        }
      ],
      "source": [
        "#@title Solución Analitica\n",
        "import numpy as np\n",
        "import matplotlib.pyplot as plt\n",
        "\n",
        "def Uf(x):\n",
        "  return (1-x**2)/4 + np.log(x)/np.log(k) * (k**2-1)/4\n",
        "\n",
        "dx = (k-1)/n\n",
        "x = np.arange(1,k+dx*0.1,dx)**alpha\n",
        "U1 = Uf(x)\n",
        "\n",
        "print(f\"La velocidad maxima en el fluido es: {round(np.max(U1),4)}\")\n"
      ]
    },
    {
      "cell_type": "code",
      "execution_count": null,
      "metadata": {
        "cellView": "form",
        "id": "21z8LMPJOXA7"
      },
      "outputs": [],
      "source": [
        "#@title TDMA\n",
        "import numpy as np\n",
        "\n",
        "def TDMASolve(a, b, c, d):\n",
        "    n = len(d)  # número de filas\n",
        "\n",
        "    # Modifica los coeficientes de la primera fila\n",
        "    c[0] /= b[0]  # Posible división por cero\n",
        "    d[0] /= b[0]\n",
        "\n",
        "    for i in range(1, n):\n",
        "        ptemp = b[i] - (a[i] * c[i-1])\n",
        "        c[i] /= ptemp\n",
        "        d[i] = (d[i] - a[i] * d[i-1])/ptemp\n",
        "\n",
        "    # Sustitución hacia atrás\n",
        "    x = [0 for i in range(n)]\n",
        "    x[-1] = d[-1]\n",
        "\n",
        "    for i in range(-2, -n-1, -1):\n",
        "        x[i] = d[i] - c[i] * x[i+1]\n",
        "\n",
        "    return np.array(x)"
      ]
    },
    {
      "cell_type": "code",
      "execution_count": null,
      "metadata": {
        "cellView": "form",
        "colab": {
          "base_uri": "https://localhost:8080/"
        },
        "id": "vUOIEKV68EA7",
        "outputId": "23279538-09e2-4f6e-de4a-ef47bf6c7acf"
      },
      "outputs": [
        {
          "name": "stdout",
          "output_type": "stream",
          "text": [
            "La velocidad maxima en el fluido es: 0.1266\n"
          ]
        }
      ],
      "source": [
        "#@title Solucion Numerica\n",
        "import numpy as np\n",
        "\n",
        "def Un(n):\n",
        "  #mesh\n",
        "  dx = (k-1)/n\n",
        "  xp = np.arange(1,k+dx*0.1,dx)**alpha\n",
        "  n = n+1\n",
        "  xface = (xp[1:]+xp[:-1])*0.5\n",
        "  xdelta = xp[1:]-xp[:-1]\n",
        "  xddelta = np.concatenate(([xface[0]-xp[0]],xface[1:]-xface[:-1],[xp[-1]-xface[-1]]), axis=0)\n",
        "  \n",
        "  #coeficientes TDMA\n",
        "  d = np.concatenate(([0],-xddelta[1:-1]*0.5*(xface[1:]+xface[:-1]),[0]),axis=0)\n",
        "  c = np.concatenate(([0],xface[1:]/xdelta[1:],[0]),axis=0)\n",
        "  a = np.concatenate(([0],xface[:-1]/xdelta[:-1],[0]),axis=0)\n",
        "  b = -(a+c)\n",
        "  b[0] = b[-1] = 1\n",
        "\n",
        "  Tx = TDMASolve(a,b,c,d)\n",
        "  return Tx\n",
        "\n",
        "U2 = Un(n)\n",
        "\n",
        "print(f\"La velocidad maxima en el fluido es: {round(np.max(U2),4)}\")"
      ]
    },
    {
      "cell_type": "code",
      "execution_count": null,
      "metadata": {
        "cellView": "form",
        "colab": {
          "base_uri": "https://localhost:8080/"
        },
        "id": "0Q58FNVnLmkj",
        "outputId": "0dff18c3-7288-4e80-9582-fbbf70049225"
      },
      "outputs": [
        {
          "name": "stdout",
          "output_type": "stream",
          "text": [
            "La velocidad maxima en el fluido es: 0.1266\n"
          ]
        }
      ],
      "source": [
        "#@title Extrapolacion de Richardson\n",
        "import numpy as np\n",
        "\n",
        "def Richardson(f,n,num):\n",
        "  data = []\n",
        "  for k in range(num):\n",
        "    layer = []\n",
        "    for j in range(num-k):\n",
        "      if k==0:\n",
        "        Te = f(n*(2**j))\n",
        "        index = np.arange(Te.size)\n",
        "        Te = np.extract(np.mod(index, 2**j)==0, Te)\n",
        "        layer.append(Te)\n",
        "      else:\n",
        "        Te = (4**((k)*1)*data[k-1][j+1]-data[k-1][j])/(4**((k)*1)-1)\n",
        "        layer.append(Te)\n",
        "    data.append(layer)\n",
        "  return data[-1][-1]\n",
        "\n",
        "numero_extrapolaciones = \"3\" #@param [1,2,3,4,5,6]\n",
        "num_ext = int(numero_extrapolaciones)\n",
        "Ur = Richardson(Un,n,num_ext)\n",
        "\n",
        "print(f\"La velocidad maxima en el fluido es: {round(np.max(Ur),4)}\")\n"
      ]
    },
    {
      "cell_type": "code",
      "execution_count": null,
      "metadata": {
        "cellView": "form",
        "colab": {
          "base_uri": "https://localhost:8080/",
          "height": 731
        },
        "id": "kdDrlQfFb67-",
        "outputId": "d1404a06-d7c2-40de-d4f5-e70693402536"
      },
      "outputs": [
        {
          "name": "stdout",
          "output_type": "stream",
          "text": [
            "error porcentual numerico de U: 0.0\n",
            "error porcentual extrapolado 3 veces en U: 0.0\n",
            "\n"
          ]
        },
        {
          "data": {
            "text/html": [
              "<div>\n",
              "<style scoped>\n",
              "    .dataframe tbody tr th:only-of-type {\n",
              "        vertical-align: middle;\n",
              "    }\n",
              "\n",
              "    .dataframe tbody tr th {\n",
              "        vertical-align: top;\n",
              "    }\n",
              "\n",
              "    .dataframe thead th {\n",
              "        text-align: right;\n",
              "    }\n",
              "</style>\n",
              "<table border=\"1\" class=\"dataframe\">\n",
              "  <thead>\n",
              "    <tr style=\"text-align: right;\">\n",
              "      <th></th>\n",
              "      <th>U Analitico</th>\n",
              "      <th>U Numerico</th>\n",
              "      <th>U Extrapolado</th>\n",
              "      <th>error % numerico</th>\n",
              "      <th>error % extrapolado</th>\n",
              "    </tr>\n",
              "  </thead>\n",
              "  <tbody>\n",
              "    <tr>\n",
              "      <th>0</th>\n",
              "      <td>0.00000</td>\n",
              "      <td>0.00000</td>\n",
              "      <td>0.00000</td>\n",
              "      <td>0.00000</td>\n",
              "      <td>0.0</td>\n",
              "    </tr>\n",
              "    <tr>\n",
              "      <th>1</th>\n",
              "      <td>0.02849</td>\n",
              "      <td>0.02849</td>\n",
              "      <td>0.02849</td>\n",
              "      <td>-0.01839</td>\n",
              "      <td>-0.0</td>\n",
              "    </tr>\n",
              "    <tr>\n",
              "      <th>2</th>\n",
              "      <td>0.05289</td>\n",
              "      <td>0.05288</td>\n",
              "      <td>0.05289</td>\n",
              "      <td>-0.01724</td>\n",
              "      <td>-0.0</td>\n",
              "    </tr>\n",
              "    <tr>\n",
              "      <th>3</th>\n",
              "      <td>0.07345</td>\n",
              "      <td>0.07344</td>\n",
              "      <td>0.07345</td>\n",
              "      <td>-0.01622</td>\n",
              "      <td>-0.0</td>\n",
              "    </tr>\n",
              "    <tr>\n",
              "      <th>4</th>\n",
              "      <td>0.09038</td>\n",
              "      <td>0.09037</td>\n",
              "      <td>0.09038</td>\n",
              "      <td>-0.01530</td>\n",
              "      <td>-0.0</td>\n",
              "    </tr>\n",
              "    <tr>\n",
              "      <th>5</th>\n",
              "      <td>0.10388</td>\n",
              "      <td>0.10387</td>\n",
              "      <td>0.10388</td>\n",
              "      <td>-0.01447</td>\n",
              "      <td>-0.0</td>\n",
              "    </tr>\n",
              "    <tr>\n",
              "      <th>6</th>\n",
              "      <td>0.11412</td>\n",
              "      <td>0.11411</td>\n",
              "      <td>0.11412</td>\n",
              "      <td>-0.01371</td>\n",
              "      <td>-0.0</td>\n",
              "    </tr>\n",
              "    <tr>\n",
              "      <th>7</th>\n",
              "      <td>0.12124</td>\n",
              "      <td>0.12122</td>\n",
              "      <td>0.12124</td>\n",
              "      <td>-0.01303</td>\n",
              "      <td>-0.0</td>\n",
              "    </tr>\n",
              "    <tr>\n",
              "      <th>8</th>\n",
              "      <td>0.12537</td>\n",
              "      <td>0.12536</td>\n",
              "      <td>0.12537</td>\n",
              "      <td>-0.01240</td>\n",
              "      <td>-0.0</td>\n",
              "    </tr>\n",
              "    <tr>\n",
              "      <th>9</th>\n",
              "      <td>0.12663</td>\n",
              "      <td>0.12662</td>\n",
              "      <td>0.12663</td>\n",
              "      <td>-0.01182</td>\n",
              "      <td>-0.0</td>\n",
              "    </tr>\n",
              "    <tr>\n",
              "      <th>10</th>\n",
              "      <td>0.12513</td>\n",
              "      <td>0.12512</td>\n",
              "      <td>0.12513</td>\n",
              "      <td>-0.01129</td>\n",
              "      <td>-0.0</td>\n",
              "    </tr>\n",
              "    <tr>\n",
              "      <th>11</th>\n",
              "      <td>0.12095</td>\n",
              "      <td>0.12094</td>\n",
              "      <td>0.12095</td>\n",
              "      <td>-0.01080</td>\n",
              "      <td>-0.0</td>\n",
              "    </tr>\n",
              "    <tr>\n",
              "      <th>12</th>\n",
              "      <td>0.11419</td>\n",
              "      <td>0.11418</td>\n",
              "      <td>0.11419</td>\n",
              "      <td>-0.01034</td>\n",
              "      <td>-0.0</td>\n",
              "    </tr>\n",
              "    <tr>\n",
              "      <th>13</th>\n",
              "      <td>0.10491</td>\n",
              "      <td>0.10490</td>\n",
              "      <td>0.10491</td>\n",
              "      <td>-0.00992</td>\n",
              "      <td>-0.0</td>\n",
              "    </tr>\n",
              "    <tr>\n",
              "      <th>14</th>\n",
              "      <td>0.09319</td>\n",
              "      <td>0.09319</td>\n",
              "      <td>0.09319</td>\n",
              "      <td>-0.00953</td>\n",
              "      <td>-0.0</td>\n",
              "    </tr>\n",
              "    <tr>\n",
              "      <th>15</th>\n",
              "      <td>0.07910</td>\n",
              "      <td>0.07909</td>\n",
              "      <td>0.07910</td>\n",
              "      <td>-0.00916</td>\n",
              "      <td>-0.0</td>\n",
              "    </tr>\n",
              "    <tr>\n",
              "      <th>16</th>\n",
              "      <td>0.06268</td>\n",
              "      <td>0.06267</td>\n",
              "      <td>0.06268</td>\n",
              "      <td>-0.00882</td>\n",
              "      <td>-0.0</td>\n",
              "    </tr>\n",
              "    <tr>\n",
              "      <th>17</th>\n",
              "      <td>0.04399</td>\n",
              "      <td>0.04399</td>\n",
              "      <td>0.04399</td>\n",
              "      <td>-0.00850</td>\n",
              "      <td>-0.0</td>\n",
              "    </tr>\n",
              "    <tr>\n",
              "      <th>18</th>\n",
              "      <td>0.02308</td>\n",
              "      <td>0.02308</td>\n",
              "      <td>0.02308</td>\n",
              "      <td>-0.00820</td>\n",
              "      <td>-0.0</td>\n",
              "    </tr>\n",
              "    <tr>\n",
              "      <th>19</th>\n",
              "      <td>0.00000</td>\n",
              "      <td>0.00000</td>\n",
              "      <td>0.00000</td>\n",
              "      <td>0.00000</td>\n",
              "      <td>0.0</td>\n",
              "    </tr>\n",
              "  </tbody>\n",
              "</table>\n",
              "</div>"
            ],
            "text/plain": [
              "     U Analitico     U Numerico    ...  error % numerico  error % extrapolado\n",
              "0          0.00000        0.00000  ...           0.00000                  0.0\n",
              "1          0.02849        0.02849  ...          -0.01839                 -0.0\n",
              "2          0.05289        0.05288  ...          -0.01724                 -0.0\n",
              "3          0.07345        0.07344  ...          -0.01622                 -0.0\n",
              "4          0.09038        0.09037  ...          -0.01530                 -0.0\n",
              "5          0.10388        0.10387  ...          -0.01447                 -0.0\n",
              "6          0.11412        0.11411  ...          -0.01371                 -0.0\n",
              "7          0.12124        0.12122  ...          -0.01303                 -0.0\n",
              "8          0.12537        0.12536  ...          -0.01240                 -0.0\n",
              "9          0.12663        0.12662  ...          -0.01182                 -0.0\n",
              "10         0.12513        0.12512  ...          -0.01129                 -0.0\n",
              "11         0.12095        0.12094  ...          -0.01080                 -0.0\n",
              "12         0.11419        0.11418  ...          -0.01034                 -0.0\n",
              "13         0.10491        0.10490  ...          -0.00992                 -0.0\n",
              "14         0.09319        0.09319  ...          -0.00953                 -0.0\n",
              "15         0.07910        0.07909  ...          -0.00916                 -0.0\n",
              "16         0.06268        0.06267  ...          -0.00882                 -0.0\n",
              "17         0.04399        0.04399  ...          -0.00850                 -0.0\n",
              "18         0.02308        0.02308  ...          -0.00820                 -0.0\n",
              "19         0.00000        0.00000  ...           0.00000                  0.0\n",
              "\n",
              "[20 rows x 5 columns]"
            ]
          },
          "execution_count": 46,
          "metadata": {},
          "output_type": "execute_result"
        }
      ],
      "source": [
        "#@title Comparacion de Datos\n",
        "import pandas as pd\n",
        "en = np.concatenate(([0],100*(U2[1:-1]-U1[1:-1])/U1[1:-1],[0]),axis=0)\n",
        "ex = np.concatenate(([0],100*(Ur[1:-1]-U1[1:-1])/U1[1:-1],[0]),axis=0)\n",
        "dataU = np.array([U1,U2,Ur,en,ex])\n",
        "dataU = np.transpose(dataU)\n",
        "dataU = np.round(dataU, 5)\n",
        " \n",
        "# Create the pandas DataFrame\n",
        "df = pd.DataFrame(dataU, columns = [' U Analitico  ',' U Numerico  ',' U Extrapolado  ','error % numerico','error % extrapolado'])\n",
        "\n",
        "print(\"error porcentual numerico de U:\", round(np.max(en),4))\n",
        "print(f\"error porcentual extrapolado {numero_extrapolaciones} veces en U:\", round(np.max(ex),4))\n",
        "print()\n",
        "\n",
        "# print dataframe.\n",
        "df"
      ]
    },
    {
      "cell_type": "markdown",
      "metadata": {
        "id": "plroGUOjvq4f"
      },
      "source": [
        "###Graficas"
      ]
    },
    {
      "cell_type": "code",
      "execution_count": null,
      "metadata": {
        "cellView": "form",
        "colab": {
          "base_uri": "https://localhost:8080/",
          "height": 542
        },
        "id": "iqZFvklavzGI",
        "outputId": "f5b413e9-d892-405b-fd13-17942fe67599"
      },
      "outputs": [
        {
          "data": {
            "text/html": [
              "<html>\n",
              "<head><meta charset=\"utf-8\" /></head>\n",
              "<body>\n",
              "    <div>\n",
              "            <script src=\"https://cdnjs.cloudflare.com/ajax/libs/mathjax/2.7.5/MathJax.js?config=TeX-AMS-MML_SVG\"></script><script type=\"text/javascript\">if (window.MathJax) {MathJax.Hub.Config({SVG: {font: \"STIX-Web\"}});}</script>\n",
              "                <script type=\"text/javascript\">window.PlotlyConfig = {MathJaxConfig: 'local'};</script>\n",
              "        <script src=\"https://cdn.plot.ly/plotly-latest.min.js\"></script>    \n",
              "            <div id=\"9e2c1bf7-eaa7-4c43-b1d9-eff006073e7e\" class=\"plotly-graph-div\" style=\"height:525px; width:100%;\"></div>\n",
              "            <script type=\"text/javascript\">\n",
              "                \n",
              "                    window.PLOTLYENV=window.PLOTLYENV || {};\n",
              "                    \n",
              "                if (document.getElementById(\"9e2c1bf7-eaa7-4c43-b1d9-eff006073e7e\")) {\n",
              "                    Plotly.newPlot(\n",
              "                        '9e2c1bf7-eaa7-4c43-b1d9-eff006073e7e',\n",
              "                        [{\"line\": {\"color\": \"gold\"}, \"mode\": \"lines+markers\", \"name\": \"U analitica\", \"type\": \"scatter\", \"x\": [0.0, 0.028492125833525138, 0.052890769951519576, 0.07344802349362173, 0.09038234165536133, 0.10388427369917519, 0.11412102248381145, 0.12124010920180034, 0.12537234611054937, 0.1266342683718713, 0.12513013896382097, 0.12095361356275802, 0.11418913233350614, 0.10491309067908394, 0.09319482978241156, 0.07909747923456711, 0.06267867748753186, 0.043991190791289214, 0.023083447310768723, 5.551115123125783e-16], \"y\": [1.0, 1.0526315789473684, 1.1052631578947367, 1.157894736842105, 1.2105263157894735, 1.2631578947368418, 1.3157894736842102, 1.3684210526315785, 1.421052631578947, 1.4736842105263153, 1.5263157894736836, 1.578947368421052, 1.6315789473684204, 1.6842105263157887, 1.736842105263157, 1.7894736842105254, 1.8421052631578938, 1.8947368421052622, 1.9473684210526305, 1.999999999999999]}, {\"line\": {\"color\": \"ghostwhite\"}, \"mode\": \"lines+markers\", \"name\": \"U numerica\", \"type\": \"scatter\", \"visible\": \"legendonly\", \"x\": [0.0, 0.02848688699158026, 0.05288164963967554, 0.07343610959937782, 0.0903685123051001, 0.10386924207196864, 0.1141053708499922, 0.1212243150656491, 0.12535680249336345, 0.12661929969580407, 0.1251160135974641, 0.1209405538084815, 0.11417732243635757, 0.10490268329264121, 0.09318595122166141, 0.07909023376825502, 0.06267315086466435, 0.04398745315308307, 0.023081555606483447, 0.0], \"y\": [1.0, 1.0526315789473684, 1.1052631578947367, 1.157894736842105, 1.2105263157894735, 1.2631578947368418, 1.3157894736842102, 1.3684210526315785, 1.421052631578947, 1.4736842105263153, 1.5263157894736836, 1.578947368421052, 1.6315789473684204, 1.6842105263157887, 1.736842105263157, 1.7894736842105254, 1.8421052631578938, 1.8947368421052622, 1.9473684210526305, 1.999999999999999]}, {\"line\": {\"color\": \"limegreen\"}, \"mode\": \"lines+markers\", \"name\": \"U extrapolada\", \"type\": \"scatter\", \"visible\": \"legendonly\", \"x\": [0.0, 0.028492125833279477, 0.05289076995112527, 0.0734480234931429, 0.09038234165484088, 0.10388427369864207, 0.11412102248328541, 0.12124010920129479, 0.12537234611007345, 0.12663426837143113, 0.12513013896342084, 0.1209536135624004, 0.11418913233319272, 0.10491309067881543, 0.09319482978218835, 0.0790974792343893, 0.06267867748739925, 0.043991190791201305, 0.023083447310724883, 0.0], \"y\": [1.0, 1.0526315789473684, 1.1052631578947367, 1.157894736842105, 1.2105263157894735, 1.2631578947368418, 1.3157894736842102, 1.3684210526315785, 1.421052631578947, 1.4736842105263153, 1.5263157894736836, 1.578947368421052, 1.6315789473684204, 1.6842105263157887, 1.736842105263157, 1.7894736842105254, 1.8421052631578938, 1.8947368421052622, 1.9473684210526305, 1.999999999999999]}],\n",
              "                        {\"paper_bgcolor\": \"rgba(25,25,25,1)\", \"plot_bgcolor\": \"rgba(15,15,15,0)\", \"template\": {\"data\": {\"bar\": [{\"error_x\": {\"color\": \"#f2f5fa\"}, \"error_y\": {\"color\": \"#f2f5fa\"}, \"marker\": {\"line\": {\"color\": \"rgb(17,17,17)\", \"width\": 0.5}}, \"type\": \"bar\"}], \"barpolar\": [{\"marker\": {\"line\": {\"color\": \"rgb(17,17,17)\", \"width\": 0.5}}, \"type\": \"barpolar\"}], \"carpet\": [{\"aaxis\": {\"endlinecolor\": \"#A2B1C6\", \"gridcolor\": \"#506784\", \"linecolor\": \"#506784\", \"minorgridcolor\": \"#506784\", \"startlinecolor\": \"#A2B1C6\"}, \"baxis\": {\"endlinecolor\": \"#A2B1C6\", \"gridcolor\": \"#506784\", \"linecolor\": \"#506784\", \"minorgridcolor\": \"#506784\", \"startlinecolor\": \"#A2B1C6\"}, \"type\": \"carpet\"}], \"choropleth\": [{\"colorbar\": {\"outlinewidth\": 0, \"ticks\": \"\"}, \"type\": \"choropleth\"}], \"contour\": [{\"colorbar\": {\"outlinewidth\": 0, \"ticks\": \"\"}, \"colorscale\": [[0.0, \"#0d0887\"], [0.1111111111111111, \"#46039f\"], [0.2222222222222222, \"#7201a8\"], [0.3333333333333333, \"#9c179e\"], [0.4444444444444444, \"#bd3786\"], [0.5555555555555556, \"#d8576b\"], [0.6666666666666666, \"#ed7953\"], [0.7777777777777778, \"#fb9f3a\"], [0.8888888888888888, \"#fdca26\"], [1.0, \"#f0f921\"]], \"type\": \"contour\"}], \"contourcarpet\": [{\"colorbar\": {\"outlinewidth\": 0, \"ticks\": \"\"}, \"type\": \"contourcarpet\"}], \"heatmap\": [{\"colorbar\": {\"outlinewidth\": 0, \"ticks\": \"\"}, \"colorscale\": [[0.0, \"#0d0887\"], [0.1111111111111111, \"#46039f\"], [0.2222222222222222, \"#7201a8\"], [0.3333333333333333, \"#9c179e\"], [0.4444444444444444, \"#bd3786\"], [0.5555555555555556, \"#d8576b\"], [0.6666666666666666, \"#ed7953\"], [0.7777777777777778, \"#fb9f3a\"], [0.8888888888888888, \"#fdca26\"], [1.0, \"#f0f921\"]], \"type\": \"heatmap\"}], \"heatmapgl\": [{\"colorbar\": {\"outlinewidth\": 0, \"ticks\": \"\"}, \"colorscale\": [[0.0, \"#0d0887\"], [0.1111111111111111, \"#46039f\"], [0.2222222222222222, \"#7201a8\"], [0.3333333333333333, \"#9c179e\"], [0.4444444444444444, \"#bd3786\"], [0.5555555555555556, \"#d8576b\"], [0.6666666666666666, \"#ed7953\"], [0.7777777777777778, \"#fb9f3a\"], [0.8888888888888888, \"#fdca26\"], [1.0, \"#f0f921\"]], \"type\": \"heatmapgl\"}], \"histogram\": [{\"marker\": {\"colorbar\": {\"outlinewidth\": 0, \"ticks\": \"\"}}, \"type\": \"histogram\"}], \"histogram2d\": [{\"colorbar\": {\"outlinewidth\": 0, \"ticks\": \"\"}, \"colorscale\": [[0.0, \"#0d0887\"], [0.1111111111111111, \"#46039f\"], [0.2222222222222222, \"#7201a8\"], [0.3333333333333333, \"#9c179e\"], [0.4444444444444444, \"#bd3786\"], [0.5555555555555556, \"#d8576b\"], [0.6666666666666666, \"#ed7953\"], [0.7777777777777778, \"#fb9f3a\"], [0.8888888888888888, \"#fdca26\"], [1.0, \"#f0f921\"]], \"type\": \"histogram2d\"}], \"histogram2dcontour\": [{\"colorbar\": {\"outlinewidth\": 0, \"ticks\": \"\"}, \"colorscale\": [[0.0, \"#0d0887\"], [0.1111111111111111, \"#46039f\"], [0.2222222222222222, \"#7201a8\"], [0.3333333333333333, \"#9c179e\"], [0.4444444444444444, \"#bd3786\"], [0.5555555555555556, \"#d8576b\"], [0.6666666666666666, \"#ed7953\"], [0.7777777777777778, \"#fb9f3a\"], [0.8888888888888888, \"#fdca26\"], [1.0, \"#f0f921\"]], \"type\": \"histogram2dcontour\"}], \"mesh3d\": [{\"colorbar\": {\"outlinewidth\": 0, \"ticks\": \"\"}, \"type\": \"mesh3d\"}], \"parcoords\": [{\"line\": {\"colorbar\": {\"outlinewidth\": 0, \"ticks\": \"\"}}, \"type\": \"parcoords\"}], \"pie\": [{\"automargin\": true, \"type\": \"pie\"}], \"scatter\": [{\"marker\": {\"line\": {\"color\": \"#283442\"}}, \"type\": \"scatter\"}], \"scatter3d\": [{\"line\": {\"colorbar\": {\"outlinewidth\": 0, \"ticks\": \"\"}}, \"marker\": {\"colorbar\": {\"outlinewidth\": 0, \"ticks\": \"\"}}, \"type\": \"scatter3d\"}], \"scattercarpet\": [{\"marker\": {\"colorbar\": {\"outlinewidth\": 0, \"ticks\": \"\"}}, \"type\": \"scattercarpet\"}], \"scattergeo\": [{\"marker\": {\"colorbar\": {\"outlinewidth\": 0, \"ticks\": \"\"}}, \"type\": \"scattergeo\"}], \"scattergl\": [{\"marker\": {\"line\": {\"color\": \"#283442\"}}, \"type\": \"scattergl\"}], \"scattermapbox\": [{\"marker\": {\"colorbar\": {\"outlinewidth\": 0, \"ticks\": \"\"}}, \"type\": \"scattermapbox\"}], \"scatterpolar\": [{\"marker\": {\"colorbar\": {\"outlinewidth\": 0, \"ticks\": \"\"}}, \"type\": \"scatterpolar\"}], \"scatterpolargl\": [{\"marker\": {\"colorbar\": {\"outlinewidth\": 0, \"ticks\": \"\"}}, \"type\": \"scatterpolargl\"}], \"scatterternary\": [{\"marker\": {\"colorbar\": {\"outlinewidth\": 0, \"ticks\": \"\"}}, \"type\": \"scatterternary\"}], \"surface\": [{\"colorbar\": {\"outlinewidth\": 0, \"ticks\": \"\"}, \"colorscale\": [[0.0, \"#0d0887\"], [0.1111111111111111, \"#46039f\"], [0.2222222222222222, \"#7201a8\"], [0.3333333333333333, \"#9c179e\"], [0.4444444444444444, \"#bd3786\"], [0.5555555555555556, \"#d8576b\"], [0.6666666666666666, \"#ed7953\"], [0.7777777777777778, \"#fb9f3a\"], [0.8888888888888888, \"#fdca26\"], [1.0, \"#f0f921\"]], \"type\": \"surface\"}], \"table\": [{\"cells\": {\"fill\": {\"color\": \"#506784\"}, \"line\": {\"color\": \"rgb(17,17,17)\"}}, \"header\": {\"fill\": {\"color\": \"#2a3f5f\"}, \"line\": {\"color\": \"rgb(17,17,17)\"}}, \"type\": \"table\"}]}, \"layout\": {\"annotationdefaults\": {\"arrowcolor\": \"#f2f5fa\", \"arrowhead\": 0, \"arrowwidth\": 1}, \"coloraxis\": {\"colorbar\": {\"outlinewidth\": 0, \"ticks\": \"\"}}, \"colorscale\": {\"diverging\": [[0, \"#8e0152\"], [0.1, \"#c51b7d\"], [0.2, \"#de77ae\"], [0.3, \"#f1b6da\"], [0.4, \"#fde0ef\"], [0.5, \"#f7f7f7\"], [0.6, \"#e6f5d0\"], [0.7, \"#b8e186\"], [0.8, \"#7fbc41\"], [0.9, \"#4d9221\"], [1, \"#276419\"]], \"sequential\": [[0.0, \"#0d0887\"], [0.1111111111111111, \"#46039f\"], [0.2222222222222222, \"#7201a8\"], [0.3333333333333333, \"#9c179e\"], [0.4444444444444444, \"#bd3786\"], [0.5555555555555556, \"#d8576b\"], [0.6666666666666666, \"#ed7953\"], [0.7777777777777778, \"#fb9f3a\"], [0.8888888888888888, \"#fdca26\"], [1.0, \"#f0f921\"]], \"sequentialminus\": [[0.0, \"#0d0887\"], [0.1111111111111111, \"#46039f\"], [0.2222222222222222, \"#7201a8\"], [0.3333333333333333, \"#9c179e\"], [0.4444444444444444, \"#bd3786\"], [0.5555555555555556, \"#d8576b\"], [0.6666666666666666, \"#ed7953\"], [0.7777777777777778, \"#fb9f3a\"], [0.8888888888888888, \"#fdca26\"], [1.0, \"#f0f921\"]]}, \"colorway\": [\"#636efa\", \"#EF553B\", \"#00cc96\", \"#ab63fa\", \"#FFA15A\", \"#19d3f3\", \"#FF6692\", \"#B6E880\", \"#FF97FF\", \"#FECB52\"], \"font\": {\"color\": \"#f2f5fa\"}, \"geo\": {\"bgcolor\": \"rgb(17,17,17)\", \"lakecolor\": \"rgb(17,17,17)\", \"landcolor\": \"rgb(17,17,17)\", \"showlakes\": true, \"showland\": true, \"subunitcolor\": \"#506784\"}, \"hoverlabel\": {\"align\": \"left\"}, \"hovermode\": \"closest\", \"mapbox\": {\"style\": \"dark\"}, \"paper_bgcolor\": \"rgb(17,17,17)\", \"plot_bgcolor\": \"rgb(17,17,17)\", \"polar\": {\"angularaxis\": {\"gridcolor\": \"#506784\", \"linecolor\": \"#506784\", \"ticks\": \"\"}, \"bgcolor\": \"rgb(17,17,17)\", \"radialaxis\": {\"gridcolor\": \"#506784\", \"linecolor\": \"#506784\", \"ticks\": \"\"}}, \"scene\": {\"xaxis\": {\"backgroundcolor\": \"rgb(17,17,17)\", \"gridcolor\": \"#506784\", \"gridwidth\": 2, \"linecolor\": \"#506784\", \"showbackground\": true, \"ticks\": \"\", \"zerolinecolor\": \"#C8D4E3\"}, \"yaxis\": {\"backgroundcolor\": \"rgb(17,17,17)\", \"gridcolor\": \"#506784\", \"gridwidth\": 2, \"linecolor\": \"#506784\", \"showbackground\": true, \"ticks\": \"\", \"zerolinecolor\": \"#C8D4E3\"}, \"zaxis\": {\"backgroundcolor\": \"rgb(17,17,17)\", \"gridcolor\": \"#506784\", \"gridwidth\": 2, \"linecolor\": \"#506784\", \"showbackground\": true, \"ticks\": \"\", \"zerolinecolor\": \"#C8D4E3\"}}, \"shapedefaults\": {\"line\": {\"color\": \"#f2f5fa\"}}, \"sliderdefaults\": {\"bgcolor\": \"#C8D4E3\", \"bordercolor\": \"rgb(17,17,17)\", \"borderwidth\": 1, \"tickwidth\": 0}, \"ternary\": {\"aaxis\": {\"gridcolor\": \"#506784\", \"linecolor\": \"#506784\", \"ticks\": \"\"}, \"baxis\": {\"gridcolor\": \"#506784\", \"linecolor\": \"#506784\", \"ticks\": \"\"}, \"bgcolor\": \"rgb(17,17,17)\", \"caxis\": {\"gridcolor\": \"#506784\", \"linecolor\": \"#506784\", \"ticks\": \"\"}}, \"title\": {\"x\": 0.05}, \"updatemenudefaults\": {\"bgcolor\": \"#506784\", \"borderwidth\": 0}, \"xaxis\": {\"automargin\": true, \"gridcolor\": \"#283442\", \"linecolor\": \"#506784\", \"ticks\": \"\", \"title\": {\"standoff\": 15}, \"zerolinecolor\": \"#283442\", \"zerolinewidth\": 2}, \"yaxis\": {\"automargin\": true, \"gridcolor\": \"#283442\", \"linecolor\": \"#506784\", \"ticks\": \"\", \"title\": {\"standoff\": 15}, \"zerolinecolor\": \"#283442\", \"zerolinewidth\": 2}}}, \"title\": {\"text\": \"Velocidad\"}},\n",
              "                        {\"responsive\": true}\n",
              "                    ).then(function(){\n",
              "                            \n",
              "var gd = document.getElementById('9e2c1bf7-eaa7-4c43-b1d9-eff006073e7e');\n",
              "var x = new MutationObserver(function (mutations, observer) {{\n",
              "        var display = window.getComputedStyle(gd).display;\n",
              "        if (!display || display === 'none') {{\n",
              "            console.log([gd, 'removed!']);\n",
              "            Plotly.purge(gd);\n",
              "            observer.disconnect();\n",
              "        }}\n",
              "}});\n",
              "\n",
              "// Listen for the removal of the full notebook cells\n",
              "var notebookContainer = gd.closest('#notebook-container');\n",
              "if (notebookContainer) {{\n",
              "    x.observe(notebookContainer, {childList: true});\n",
              "}}\n",
              "\n",
              "// Listen for the clearing of the current output cell\n",
              "var outputEl = gd.closest('.output');\n",
              "if (outputEl) {{\n",
              "    x.observe(outputEl, {childList: true});\n",
              "}}\n",
              "\n",
              "                        })\n",
              "                };\n",
              "                \n",
              "            </script>\n",
              "        </div>\n",
              "</body>\n",
              "</html>"
            ]
          },
          "metadata": {},
          "output_type": "display_data"
        }
      ],
      "source": [
        "#@title\n",
        "import plotly.graph_objects as go\n",
        "\n",
        "graphs = [U1,U2,Ur]\n",
        "titles = ['U analitica','U numerica','U extrapolada']\n",
        "colors = ['gold','ghostwhite','limegreen']\n",
        "fig = go.Figure(layout={'template':'plotly_dark'})\n",
        "fig.update_layout(\n",
        "  plot_bgcolor='rgba(15,15,15,0)',\n",
        "  paper_bgcolor ='rgba(25,25,25,1)')\n",
        "  \n",
        "for graph,title,color in list(zip(graphs,titles,colors)):\n",
        "  fig.add_trace(go.Scatter(x=graph, y=x,\n",
        "                  mode='lines+markers',\n",
        "                  name=title,\n",
        "                  line=dict(color=color)))\n",
        "\n",
        "fig.for_each_trace(lambda trace: trace.update(visible=\"legendonly\") \n",
        "                  if trace.name != 'U analitica' else ())\n",
        "  \n",
        "fig.update_layout(title_text=\"Velocidad\")\n",
        "fig.show()"
      ]
    },
    {
      "cell_type": "code",
      "execution_count": null,
      "metadata": {
        "cellView": "form",
        "colab": {
          "base_uri": "https://localhost:8080/",
          "height": 542
        },
        "id": "nPYO4sgWEz-e",
        "outputId": "6a15bc39-8f45-4017-848e-70fb832c359e"
      },
      "outputs": [
        {
          "data": {
            "text/html": [
              "<html>\n",
              "<head><meta charset=\"utf-8\" /></head>\n",
              "<body>\n",
              "    <div>\n",
              "            <script src=\"https://cdnjs.cloudflare.com/ajax/libs/mathjax/2.7.5/MathJax.js?config=TeX-AMS-MML_SVG\"></script><script type=\"text/javascript\">if (window.MathJax) {MathJax.Hub.Config({SVG: {font: \"STIX-Web\"}});}</script>\n",
              "                <script type=\"text/javascript\">window.PlotlyConfig = {MathJaxConfig: 'local'};</script>\n",
              "        <script src=\"https://cdn.plot.ly/plotly-latest.min.js\"></script>    \n",
              "            <div id=\"0d237bca-4efa-4604-802e-8b06284fe6c0\" class=\"plotly-graph-div\" style=\"height:525px; width:100%;\"></div>\n",
              "            <script type=\"text/javascript\">\n",
              "                \n",
              "                    window.PLOTLYENV=window.PLOTLYENV || {};\n",
              "                    \n",
              "                if (document.getElementById(\"0d237bca-4efa-4604-802e-8b06284fe6c0\")) {\n",
              "                    Plotly.newPlot(\n",
              "                        '0d237bca-4efa-4604-802e-8b06284fe6c0',\n",
              "                        [{\"line\": {\"color\": \"gold\"}, \"mode\": \"lines+markers\", \"name\": \"error U numerica\", \"type\": \"scatter\", \"x\": [1.0, 1.0526315789473684, 1.1052631578947367, 1.157894736842105, 1.2105263157894735, 1.2631578947368418, 1.3157894736842102, 1.3684210526315785, 1.421052631578947, 1.4736842105263153, 1.5263157894736836, 1.578947368421052, 1.6315789473684204, 1.6842105263157887, 1.736842105263157, 1.7894736842105254, 1.8421052631578938, 1.8947368421052622, 1.9473684210526305, 1.999999999999999], \"y\": [0.0, -0.018386981636573065, -0.01724367380621961, -0.016220850714843325, -0.015300942648689754, -0.014469588775368813, -0.013714943556059312, -0.013027154342919426, -0.012397963082077417, -0.011820399217119802, -0.011288540453830485, -0.010797324603906738, -0.010342400285582996, -0.00992000747987101, -0.009526881234585637, -0.009160173474811196, -0.008817389085167965, -0.008496333331546152, -0.00819506835269713, 0.0]}, {\"line\": {\"color\": \"ghostwhite\"}, \"mode\": \"lines+markers\", \"name\": \"error U extrapolada\", \"type\": \"scatter\", \"visible\": \"legendonly\", \"x\": [1.0, 1.0526315789473684, 1.1052631578947367, 1.157894736842105, 1.2105263157894735, 1.2631578947368418, 1.3157894736842102, 1.3684210526315785, 1.421052631578947, 1.4736842105263153, 1.5263157894736836, 1.578947368421052, 1.6315789473684204, 1.6842105263157887, 1.736842105263157, 1.7894736842105254, 1.8421052631578938, 1.8947368421052622, 1.9473684210526305, 1.999999999999999], \"y\": [0.0, -8.622070945577653e-10, -7.455036983786616e-10, -6.519240273015702e-10, -5.758257518411904e-10, -5.131818317187938e-10, -4.609471028265871e-10, -4.169857115596904e-10, -3.7960911624125904e-10, -3.475960175295119e-10, -3.197665897187207e-10, -2.956643489067961e-10, -2.744709180697725e-10, -2.5593320792247447e-10, -2.3950935864364194e-10, -2.2480627309778742e-10, -2.1158094842995872e-10, -1.9983284218350298e-10, -1.8991934391200738e-10, 0.0]}],\n",
              "                        {\"paper_bgcolor\": \"rgba(25,25,25,1)\", \"plot_bgcolor\": \"rgba(15,15,15,0)\", \"template\": {\"data\": {\"bar\": [{\"error_x\": {\"color\": \"#f2f5fa\"}, \"error_y\": {\"color\": \"#f2f5fa\"}, \"marker\": {\"line\": {\"color\": \"rgb(17,17,17)\", \"width\": 0.5}}, \"type\": \"bar\"}], \"barpolar\": [{\"marker\": {\"line\": {\"color\": \"rgb(17,17,17)\", \"width\": 0.5}}, \"type\": \"barpolar\"}], \"carpet\": [{\"aaxis\": {\"endlinecolor\": \"#A2B1C6\", \"gridcolor\": \"#506784\", \"linecolor\": \"#506784\", \"minorgridcolor\": \"#506784\", \"startlinecolor\": \"#A2B1C6\"}, \"baxis\": {\"endlinecolor\": \"#A2B1C6\", \"gridcolor\": \"#506784\", \"linecolor\": \"#506784\", \"minorgridcolor\": \"#506784\", \"startlinecolor\": \"#A2B1C6\"}, \"type\": \"carpet\"}], \"choropleth\": [{\"colorbar\": {\"outlinewidth\": 0, \"ticks\": \"\"}, \"type\": \"choropleth\"}], \"contour\": [{\"colorbar\": {\"outlinewidth\": 0, \"ticks\": \"\"}, \"colorscale\": [[0.0, \"#0d0887\"], [0.1111111111111111, \"#46039f\"], [0.2222222222222222, \"#7201a8\"], [0.3333333333333333, \"#9c179e\"], [0.4444444444444444, \"#bd3786\"], [0.5555555555555556, \"#d8576b\"], [0.6666666666666666, \"#ed7953\"], [0.7777777777777778, \"#fb9f3a\"], [0.8888888888888888, \"#fdca26\"], [1.0, \"#f0f921\"]], \"type\": \"contour\"}], \"contourcarpet\": [{\"colorbar\": {\"outlinewidth\": 0, \"ticks\": \"\"}, \"type\": \"contourcarpet\"}], \"heatmap\": [{\"colorbar\": {\"outlinewidth\": 0, \"ticks\": \"\"}, \"colorscale\": [[0.0, \"#0d0887\"], [0.1111111111111111, \"#46039f\"], [0.2222222222222222, \"#7201a8\"], [0.3333333333333333, \"#9c179e\"], [0.4444444444444444, \"#bd3786\"], [0.5555555555555556, \"#d8576b\"], [0.6666666666666666, \"#ed7953\"], [0.7777777777777778, \"#fb9f3a\"], [0.8888888888888888, \"#fdca26\"], [1.0, \"#f0f921\"]], \"type\": \"heatmap\"}], \"heatmapgl\": [{\"colorbar\": {\"outlinewidth\": 0, \"ticks\": \"\"}, \"colorscale\": [[0.0, \"#0d0887\"], [0.1111111111111111, \"#46039f\"], [0.2222222222222222, \"#7201a8\"], [0.3333333333333333, \"#9c179e\"], [0.4444444444444444, \"#bd3786\"], [0.5555555555555556, \"#d8576b\"], [0.6666666666666666, \"#ed7953\"], [0.7777777777777778, \"#fb9f3a\"], [0.8888888888888888, \"#fdca26\"], [1.0, \"#f0f921\"]], \"type\": \"heatmapgl\"}], \"histogram\": [{\"marker\": {\"colorbar\": {\"outlinewidth\": 0, \"ticks\": \"\"}}, \"type\": \"histogram\"}], \"histogram2d\": [{\"colorbar\": {\"outlinewidth\": 0, \"ticks\": \"\"}, \"colorscale\": [[0.0, \"#0d0887\"], [0.1111111111111111, \"#46039f\"], [0.2222222222222222, \"#7201a8\"], [0.3333333333333333, \"#9c179e\"], [0.4444444444444444, \"#bd3786\"], [0.5555555555555556, \"#d8576b\"], [0.6666666666666666, \"#ed7953\"], [0.7777777777777778, \"#fb9f3a\"], [0.8888888888888888, \"#fdca26\"], [1.0, \"#f0f921\"]], \"type\": \"histogram2d\"}], \"histogram2dcontour\": [{\"colorbar\": {\"outlinewidth\": 0, \"ticks\": \"\"}, \"colorscale\": [[0.0, \"#0d0887\"], [0.1111111111111111, \"#46039f\"], [0.2222222222222222, \"#7201a8\"], [0.3333333333333333, \"#9c179e\"], [0.4444444444444444, \"#bd3786\"], [0.5555555555555556, \"#d8576b\"], [0.6666666666666666, \"#ed7953\"], [0.7777777777777778, \"#fb9f3a\"], [0.8888888888888888, \"#fdca26\"], [1.0, \"#f0f921\"]], \"type\": \"histogram2dcontour\"}], \"mesh3d\": [{\"colorbar\": {\"outlinewidth\": 0, \"ticks\": \"\"}, \"type\": \"mesh3d\"}], \"parcoords\": [{\"line\": {\"colorbar\": {\"outlinewidth\": 0, \"ticks\": \"\"}}, \"type\": \"parcoords\"}], \"pie\": [{\"automargin\": true, \"type\": \"pie\"}], \"scatter\": [{\"marker\": {\"line\": {\"color\": \"#283442\"}}, \"type\": \"scatter\"}], \"scatter3d\": [{\"line\": {\"colorbar\": {\"outlinewidth\": 0, \"ticks\": \"\"}}, \"marker\": {\"colorbar\": {\"outlinewidth\": 0, \"ticks\": \"\"}}, \"type\": \"scatter3d\"}], \"scattercarpet\": [{\"marker\": {\"colorbar\": {\"outlinewidth\": 0, \"ticks\": \"\"}}, \"type\": \"scattercarpet\"}], \"scattergeo\": [{\"marker\": {\"colorbar\": {\"outlinewidth\": 0, \"ticks\": \"\"}}, \"type\": \"scattergeo\"}], \"scattergl\": [{\"marker\": {\"line\": {\"color\": \"#283442\"}}, \"type\": \"scattergl\"}], \"scattermapbox\": [{\"marker\": {\"colorbar\": {\"outlinewidth\": 0, \"ticks\": \"\"}}, \"type\": \"scattermapbox\"}], \"scatterpolar\": [{\"marker\": {\"colorbar\": {\"outlinewidth\": 0, \"ticks\": \"\"}}, \"type\": \"scatterpolar\"}], \"scatterpolargl\": [{\"marker\": {\"colorbar\": {\"outlinewidth\": 0, \"ticks\": \"\"}}, \"type\": \"scatterpolargl\"}], \"scatterternary\": [{\"marker\": {\"colorbar\": {\"outlinewidth\": 0, \"ticks\": \"\"}}, \"type\": \"scatterternary\"}], \"surface\": [{\"colorbar\": {\"outlinewidth\": 0, \"ticks\": \"\"}, \"colorscale\": [[0.0, \"#0d0887\"], [0.1111111111111111, \"#46039f\"], [0.2222222222222222, \"#7201a8\"], [0.3333333333333333, \"#9c179e\"], [0.4444444444444444, \"#bd3786\"], [0.5555555555555556, \"#d8576b\"], [0.6666666666666666, \"#ed7953\"], [0.7777777777777778, \"#fb9f3a\"], [0.8888888888888888, \"#fdca26\"], [1.0, \"#f0f921\"]], \"type\": \"surface\"}], \"table\": [{\"cells\": {\"fill\": {\"color\": \"#506784\"}, \"line\": {\"color\": \"rgb(17,17,17)\"}}, \"header\": {\"fill\": {\"color\": \"#2a3f5f\"}, \"line\": {\"color\": \"rgb(17,17,17)\"}}, \"type\": \"table\"}]}, \"layout\": {\"annotationdefaults\": {\"arrowcolor\": \"#f2f5fa\", \"arrowhead\": 0, \"arrowwidth\": 1}, \"coloraxis\": {\"colorbar\": {\"outlinewidth\": 0, \"ticks\": \"\"}}, \"colorscale\": {\"diverging\": [[0, \"#8e0152\"], [0.1, \"#c51b7d\"], [0.2, \"#de77ae\"], [0.3, \"#f1b6da\"], [0.4, \"#fde0ef\"], [0.5, \"#f7f7f7\"], [0.6, \"#e6f5d0\"], [0.7, \"#b8e186\"], [0.8, \"#7fbc41\"], [0.9, \"#4d9221\"], [1, \"#276419\"]], \"sequential\": [[0.0, \"#0d0887\"], [0.1111111111111111, \"#46039f\"], [0.2222222222222222, \"#7201a8\"], [0.3333333333333333, \"#9c179e\"], [0.4444444444444444, \"#bd3786\"], [0.5555555555555556, \"#d8576b\"], [0.6666666666666666, \"#ed7953\"], [0.7777777777777778, \"#fb9f3a\"], [0.8888888888888888, \"#fdca26\"], [1.0, \"#f0f921\"]], \"sequentialminus\": [[0.0, \"#0d0887\"], [0.1111111111111111, \"#46039f\"], [0.2222222222222222, \"#7201a8\"], [0.3333333333333333, \"#9c179e\"], [0.4444444444444444, \"#bd3786\"], [0.5555555555555556, \"#d8576b\"], [0.6666666666666666, \"#ed7953\"], [0.7777777777777778, \"#fb9f3a\"], [0.8888888888888888, \"#fdca26\"], [1.0, \"#f0f921\"]]}, \"colorway\": [\"#636efa\", \"#EF553B\", \"#00cc96\", \"#ab63fa\", \"#FFA15A\", \"#19d3f3\", \"#FF6692\", \"#B6E880\", \"#FF97FF\", \"#FECB52\"], \"font\": {\"color\": \"#f2f5fa\"}, \"geo\": {\"bgcolor\": \"rgb(17,17,17)\", \"lakecolor\": \"rgb(17,17,17)\", \"landcolor\": \"rgb(17,17,17)\", \"showlakes\": true, \"showland\": true, \"subunitcolor\": \"#506784\"}, \"hoverlabel\": {\"align\": \"left\"}, \"hovermode\": \"closest\", \"mapbox\": {\"style\": \"dark\"}, \"paper_bgcolor\": \"rgb(17,17,17)\", \"plot_bgcolor\": \"rgb(17,17,17)\", \"polar\": {\"angularaxis\": {\"gridcolor\": \"#506784\", \"linecolor\": \"#506784\", \"ticks\": \"\"}, \"bgcolor\": \"rgb(17,17,17)\", \"radialaxis\": {\"gridcolor\": \"#506784\", \"linecolor\": \"#506784\", \"ticks\": \"\"}}, \"scene\": {\"xaxis\": {\"backgroundcolor\": \"rgb(17,17,17)\", \"gridcolor\": \"#506784\", \"gridwidth\": 2, \"linecolor\": \"#506784\", \"showbackground\": true, \"ticks\": \"\", \"zerolinecolor\": \"#C8D4E3\"}, \"yaxis\": {\"backgroundcolor\": \"rgb(17,17,17)\", \"gridcolor\": \"#506784\", \"gridwidth\": 2, \"linecolor\": \"#506784\", \"showbackground\": true, \"ticks\": \"\", \"zerolinecolor\": \"#C8D4E3\"}, \"zaxis\": {\"backgroundcolor\": \"rgb(17,17,17)\", \"gridcolor\": \"#506784\", \"gridwidth\": 2, \"linecolor\": \"#506784\", \"showbackground\": true, \"ticks\": \"\", \"zerolinecolor\": \"#C8D4E3\"}}, \"shapedefaults\": {\"line\": {\"color\": \"#f2f5fa\"}}, \"sliderdefaults\": {\"bgcolor\": \"#C8D4E3\", \"bordercolor\": \"rgb(17,17,17)\", \"borderwidth\": 1, \"tickwidth\": 0}, \"ternary\": {\"aaxis\": {\"gridcolor\": \"#506784\", \"linecolor\": \"#506784\", \"ticks\": \"\"}, \"baxis\": {\"gridcolor\": \"#506784\", \"linecolor\": \"#506784\", \"ticks\": \"\"}, \"bgcolor\": \"rgb(17,17,17)\", \"caxis\": {\"gridcolor\": \"#506784\", \"linecolor\": \"#506784\", \"ticks\": \"\"}}, \"title\": {\"x\": 0.05}, \"updatemenudefaults\": {\"bgcolor\": \"#506784\", \"borderwidth\": 0}, \"xaxis\": {\"automargin\": true, \"gridcolor\": \"#283442\", \"linecolor\": \"#506784\", \"ticks\": \"\", \"title\": {\"standoff\": 15}, \"zerolinecolor\": \"#283442\", \"zerolinewidth\": 2}, \"yaxis\": {\"automargin\": true, \"gridcolor\": \"#283442\", \"linecolor\": \"#506784\", \"ticks\": \"\", \"title\": {\"standoff\": 15}, \"zerolinecolor\": \"#283442\", \"zerolinewidth\": 2}}}, \"title\": {\"text\": \"Error \\ud835\\udf00 de Velocidad\"}},\n",
              "                        {\"responsive\": true}\n",
              "                    ).then(function(){\n",
              "                            \n",
              "var gd = document.getElementById('0d237bca-4efa-4604-802e-8b06284fe6c0');\n",
              "var x = new MutationObserver(function (mutations, observer) {{\n",
              "        var display = window.getComputedStyle(gd).display;\n",
              "        if (!display || display === 'none') {{\n",
              "            console.log([gd, 'removed!']);\n",
              "            Plotly.purge(gd);\n",
              "            observer.disconnect();\n",
              "        }}\n",
              "}});\n",
              "\n",
              "// Listen for the removal of the full notebook cells\n",
              "var notebookContainer = gd.closest('#notebook-container');\n",
              "if (notebookContainer) {{\n",
              "    x.observe(notebookContainer, {childList: true});\n",
              "}}\n",
              "\n",
              "// Listen for the clearing of the current output cell\n",
              "var outputEl = gd.closest('.output');\n",
              "if (outputEl) {{\n",
              "    x.observe(outputEl, {childList: true});\n",
              "}}\n",
              "\n",
              "                        })\n",
              "                };\n",
              "                \n",
              "            </script>\n",
              "        </div>\n",
              "</body>\n",
              "</html>"
            ]
          },
          "metadata": {},
          "output_type": "display_data"
        }
      ],
      "source": [
        "#@title\n",
        "import plotly.graph_objects as go\n",
        "\n",
        "graphs = [en,ex]\n",
        "titles = ['error U numerica','error U extrapolada']\n",
        "colors = ['gold','ghostwhite']\n",
        "fig = go.Figure(layout={'template':'plotly_dark'})\n",
        "fig.update_layout(\n",
        "  plot_bgcolor='rgba(15,15,15,0)',\n",
        "  paper_bgcolor ='rgba(25,25,25,1)')\n",
        "  \n",
        "for graph,title,color in list(zip(graphs,titles,colors)):\n",
        "  fig.add_trace(go.Scatter(x=x, y=graph,\n",
        "                  mode='lines+markers',\n",
        "                  name=title,\n",
        "                  line=dict(color=color)))\n",
        "\n",
        "fig.for_each_trace(lambda trace: trace.update(visible=\"legendonly\") \n",
        "                  if trace.name != 'error U numerica' else ())\n",
        "  \n",
        "fig.update_layout(title_text=\"Error 𝜀 de Velocidad\")\n",
        "fig.show()"
      ]
    },
    {
      "cell_type": "code",
      "execution_count": null,
      "metadata": {
        "colab": {
          "base_uri": "https://localhost:8080/",
          "height": 706
        },
        "id": "_1hWnEgQ2o-W",
        "outputId": "e78e3a75-b282-490f-dffd-eb19a291ced2"
      },
      "outputs": [
        {
          "data": {
            "text/html": [
              "<head>\n",
              "  <style>\n",
              "    .slidecontainer {\n",
              "      width: 300px;\n",
              "      padding-left: 20px;\n",
              "    }\n",
              "    input[type=range]{\n",
              "      width:25em;\n",
              "    }\n",
              "  </style>\n",
              "  <script src=\"https://cdn.plot.ly/plotly-latest.min.js\"></script>\n",
              "  <script src=\"https://polyfill.io/v3/polyfill.min.js?features=es6\"></script>\n",
              "  <script id=\"MathJax-script\" async\n",
              "          src=\"https://cdn.jsdelivr.net/npm/mathjax@3.0.1/es5/tex-mml-chtml.js\">\n",
              "  </script>\n",
              "\n",
              "  <script>\n",
              "    const slider = document.getElementById(\"myRange\");\n",
              "    const value = document.getElementById(\"demo\");\n",
              "\n",
              "    var x = [], Ua = [];\n",
              "    var n = 20;\n",
              "\n",
              "    compute(2);\n",
              "\n",
              "    var layout ={\n",
              "      plot_bgcolor:'rgba(15,15,15,0.1)',\n",
              "      paper_bgcolor :'rgba(25,25,25,1)',\n",
              "      xaxis:{color:'white',range: [0, 1.5],domain:[0,0.9]},\n",
              "      yaxis:{color:'white',range: [0, 1],domain:[0,0.9]},\n",
              "    }\n",
              "\n",
              "    var trace1 = {\n",
              "      x: Ua,\n",
              "      y: x,\n",
              "      mode: 'markers+lines',\n",
              "      line: {simplify: false, color:'limegreen'},\n",
              "      name: \"U numerico\"\n",
              "    }\n",
              "\n",
              "    Plotly.plot('graph', [trace1],layout);\n",
              "\n",
              "    slider.addEventListener(\"input\", (e) => { \n",
              "      value.innerHTML= e.target.value;\n",
              "      compute(e.target.value)\n",
              "      Plotly.animate('graph', {\n",
              "        data: [{x: Ua, y: x}]\n",
              "      }, {\n",
              "        transition: {\n",
              "          duration: 0,\n",
              "        },\n",
              "        frame: {\n",
              "          duration: 0,\n",
              "          redraw: true,\n",
              "        }\n",
              "      });\n",
              "    });\n",
              "\n",
              "    function compute(k){\n",
              "      var dx = (k-1)/n\n",
              "\n",
              "      function Uf(x){\n",
              "        return (1-x*x)/4 + (k*k-1)/4 * Math.log(x)/Math.log(k);\n",
              "      }\n",
              "      \n",
              "      for (i = 0; i <= n; i++){\n",
              "        x[i] = 1+i*dx;\n",
              "        Ua[i] = Uf(x[i]);\n",
              "      }\n",
              "\n",
              "      var Uam = Math.max( ...Ua);\n",
              "\n",
              "      for (i = 0; i <= n; i++){\n",
              "        x[i] = (x[i]-1)/(k-1);\n",
              "        Ua[i] = Ua[i]/Uam;\n",
              "      }\n",
              "\n",
              "      document.getElementById(\"max\").innerHTML= Uam;\n",
              "    }\n",
              "\n",
              "  </script>\n",
              "</head>\n",
              "<body>\n",
              "  <div style=\"background-color:#2E2D2D; height:670px;\">\n",
              "    <h1 style=\"padding-left: 20px; padding-top: 20px;\">GRAFICO DINAMICO \\(k\\)</h1>\n",
              "    <p style=\"padding-left: 20px;\">modifique el valor de \\(k\\) con el slider</p>\n",
              "    <p style=\"padding-left: 20px;\">\\(n: 20 \\hspace{1cm} \\)</p>\n",
              "    <div class=\"slidecontainer\">\n",
              "      <input type=\"range\" min=\"1.01\" max=\"20\" value=\"2\" id=\"myRange\" step=\"0.01\">\n",
              "      <p>Valor de \\(k\\) : <span id=\"demo\">2</span></p>\n",
              "      <p>Valor de \\(U_{max}\\) : <span id=\"max\"></span></p>\n",
              "    </div>\n",
              "    <div id=\"graph\" style=\"width: 80%;margin-left: auto;margin-right: auto;border: 10px solid #ddd;border-radius: 5px; \"></div>\n",
              "  </div>\n",
              "</body>"
            ],
            "text/plain": [
              "<IPython.core.display.HTML object>"
            ]
          },
          "metadata": {},
          "output_type": "display_data"
        }
      ],
      "source": [
        "#@title\n",
        "%%html\n",
        "<head>\n",
        "  <style>\n",
        "    .slidecontainer {\n",
        "      width: 300px;\n",
        "      padding-left: 20px;\n",
        "    }\n",
        "    input[type=range]{\n",
        "      width:25em;\n",
        "    }\n",
        "  </style>\n",
        "  <script src=\"https://cdn.plot.ly/plotly-latest.min.js\"></script>\n",
        "  <script src=\"https://polyfill.io/v3/polyfill.min.js?features=es6\"></script>\n",
        "  <script id=\"MathJax-script\" async\n",
        "          src=\"https://cdn.jsdelivr.net/npm/mathjax@3.0.1/es5/tex-mml-chtml.js\">\n",
        "  </script>\n",
        "\n",
        "  <script>\n",
        "    const slider = document.getElementById(\"myRange\");\n",
        "    const value = document.getElementById(\"demo\");\n",
        "\n",
        "    var x = [], Ua = [];\n",
        "    var n = 20;\n",
        "\n",
        "    compute(2);\n",
        "\n",
        "    var layout ={\n",
        "      plot_bgcolor:'rgba(15,15,15,0.1)',\n",
        "      paper_bgcolor :'rgba(25,25,25,1)',\n",
        "      xaxis:{color:'white',range: [0, 1.5],domain:[0,0.9]},\n",
        "      yaxis:{color:'white',range: [0, 1],domain:[0,0.9]},\n",
        "    }\n",
        "\n",
        "    var trace1 = {\n",
        "      x: Ua,\n",
        "      y: x,\n",
        "      mode: 'markers+lines',\n",
        "      line: {simplify: false, color:'limegreen'},\n",
        "      name: \"U numerico\"\n",
        "    }\n",
        "\n",
        "    Plotly.plot('graph', [trace1],layout);\n",
        "\n",
        "    slider.addEventListener(\"input\", (e) => { \n",
        "      value.innerHTML= e.target.value;\n",
        "      compute(e.target.value)\n",
        "      Plotly.animate('graph', {\n",
        "        data: [{x: Ua, y: x}]\n",
        "      }, {\n",
        "        transition: {\n",
        "          duration: 0,\n",
        "        },\n",
        "        frame: {\n",
        "          duration: 0,\n",
        "          redraw: true,\n",
        "        }\n",
        "      });\n",
        "    });\n",
        "\n",
        "    function compute(k){\n",
        "      var dx = (k-1)/n\n",
        "\n",
        "      function Uf(x){\n",
        "        return (1-x*x)/4 + (k*k-1)/4 * Math.log(x)/Math.log(k);\n",
        "      }\n",
        "      \n",
        "      for (i = 0; i <= n; i++){\n",
        "        x[i] = 1+i*dx;\n",
        "        Ua[i] = Uf(x[i]);\n",
        "      }\n",
        "\n",
        "      var Uam = Math.max( ...Ua);\n",
        "\n",
        "      for (i = 0; i <= n; i++){\n",
        "        x[i] = (x[i]-1)/(k-1);\n",
        "        Ua[i] = Ua[i]/Uam;\n",
        "      }\n",
        "\n",
        "      document.getElementById(\"max\").innerHTML= Uam;\n",
        "    }\n",
        "\n",
        "  </script>\n",
        "</head>\n",
        "<body>\n",
        "  <div style=\"background-color:#2E2D2D; height:670px;\">\n",
        "    <h1 style=\"padding-left: 20px; padding-top: 20px;\">GRAFICO DINAMICO \\(k\\)</h1>\n",
        "    <p style=\"padding-left: 20px;\">modifique el valor de \\(k\\) con el slider</p>\n",
        "    <p style=\"padding-left: 20px;\">\\(n: 20 \\hspace{1cm} \\)</p>\n",
        "    <div class=\"slidecontainer\">\n",
        "      <input type=\"range\" min=\"1.01\" max=\"20\" value=\"2\" id=\"myRange\" step=\"0.01\">\n",
        "      <p>Valor de \\(k\\) : <span id=\"demo\">2</span></p>\n",
        "      <p>Valor de \\(U_{max}\\) : <span id=\"max\"></span></p>\n",
        "    </div>\n",
        "    <div id=\"graph\" style=\"width: 80%;margin-left: auto;margin-right: auto;border: 10px solid #ddd;border-radius: 5px; \"></div>\n",
        "  </div>\n",
        "</body>"
      ]
    }
  ],
  "metadata": {
    "colab": {
      "provenance": [],
      "toc_visible": true
    },
    "kernelspec": {
      "display_name": "Python 3",
      "name": "python3"
    },
    "language_info": {
      "name": "python"
    }
  },
  "nbformat": 4,
  "nbformat_minor": 0
}